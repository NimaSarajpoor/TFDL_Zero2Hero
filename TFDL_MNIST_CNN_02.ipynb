{
 "cells": [
  {
   "cell_type": "markdown",
   "id": "d64b0563",
   "metadata": {},
   "source": [
    "For computer vision, there is a popular kind of Neural Network, known as Convolutional Neural Network (CNN). Two important concepts of CNN:\n",
    "* Convolution --> Creating a sliding window (m-by-n), called Kernel, that moves through an image (M-by-N) and results in a new \"image\".\n",
    "\n",
    "* Max pooling --> We again need a window, but now we are not convolving. We basically get \"max\" of values enclosd by that window. This process results in a new \"image\"."
   ]
  },
  {
   "cell_type": "code",
   "execution_count": 23,
   "id": "cf325fba",
   "metadata": {},
   "outputs": [],
   "source": [
    "import tensorflow as tf\n",
    "\n",
    "import numpy as np\n",
    "import matplotlib.pyplot as plt\n",
    "\n",
    "from sklearn.metrics import accuracy_score"
   ]
  },
  {
   "cell_type": "code",
   "execution_count": 2,
   "id": "93743caf",
   "metadata": {},
   "outputs": [
    {
     "data": {
      "text/plain": [
       "((array([[[0, 0, 0, ..., 0, 0, 0],\n",
       "          [0, 0, 0, ..., 0, 0, 0],\n",
       "          [0, 0, 0, ..., 0, 0, 0],\n",
       "          ...,\n",
       "          [0, 0, 0, ..., 0, 0, 0],\n",
       "          [0, 0, 0, ..., 0, 0, 0],\n",
       "          [0, 0, 0, ..., 0, 0, 0]],\n",
       "  \n",
       "         [[0, 0, 0, ..., 0, 0, 0],\n",
       "          [0, 0, 0, ..., 0, 0, 0],\n",
       "          [0, 0, 0, ..., 0, 0, 0],\n",
       "          ...,\n",
       "          [0, 0, 0, ..., 0, 0, 0],\n",
       "          [0, 0, 0, ..., 0, 0, 0],\n",
       "          [0, 0, 0, ..., 0, 0, 0]],\n",
       "  \n",
       "         [[0, 0, 0, ..., 0, 0, 0],\n",
       "          [0, 0, 0, ..., 0, 0, 0],\n",
       "          [0, 0, 0, ..., 0, 0, 0],\n",
       "          ...,\n",
       "          [0, 0, 0, ..., 0, 0, 0],\n",
       "          [0, 0, 0, ..., 0, 0, 0],\n",
       "          [0, 0, 0, ..., 0, 0, 0]],\n",
       "  \n",
       "         ...,\n",
       "  \n",
       "         [[0, 0, 0, ..., 0, 0, 0],\n",
       "          [0, 0, 0, ..., 0, 0, 0],\n",
       "          [0, 0, 0, ..., 0, 0, 0],\n",
       "          ...,\n",
       "          [0, 0, 0, ..., 0, 0, 0],\n",
       "          [0, 0, 0, ..., 0, 0, 0],\n",
       "          [0, 0, 0, ..., 0, 0, 0]],\n",
       "  \n",
       "         [[0, 0, 0, ..., 0, 0, 0],\n",
       "          [0, 0, 0, ..., 0, 0, 0],\n",
       "          [0, 0, 0, ..., 0, 0, 0],\n",
       "          ...,\n",
       "          [0, 0, 0, ..., 0, 0, 0],\n",
       "          [0, 0, 0, ..., 0, 0, 0],\n",
       "          [0, 0, 0, ..., 0, 0, 0]],\n",
       "  \n",
       "         [[0, 0, 0, ..., 0, 0, 0],\n",
       "          [0, 0, 0, ..., 0, 0, 0],\n",
       "          [0, 0, 0, ..., 0, 0, 0],\n",
       "          ...,\n",
       "          [0, 0, 0, ..., 0, 0, 0],\n",
       "          [0, 0, 0, ..., 0, 0, 0],\n",
       "          [0, 0, 0, ..., 0, 0, 0]]], dtype=uint8),\n",
       "  array([5, 0, 4, ..., 5, 6, 8], dtype=uint8)),\n",
       " (array([[[0, 0, 0, ..., 0, 0, 0],\n",
       "          [0, 0, 0, ..., 0, 0, 0],\n",
       "          [0, 0, 0, ..., 0, 0, 0],\n",
       "          ...,\n",
       "          [0, 0, 0, ..., 0, 0, 0],\n",
       "          [0, 0, 0, ..., 0, 0, 0],\n",
       "          [0, 0, 0, ..., 0, 0, 0]],\n",
       "  \n",
       "         [[0, 0, 0, ..., 0, 0, 0],\n",
       "          [0, 0, 0, ..., 0, 0, 0],\n",
       "          [0, 0, 0, ..., 0, 0, 0],\n",
       "          ...,\n",
       "          [0, 0, 0, ..., 0, 0, 0],\n",
       "          [0, 0, 0, ..., 0, 0, 0],\n",
       "          [0, 0, 0, ..., 0, 0, 0]],\n",
       "  \n",
       "         [[0, 0, 0, ..., 0, 0, 0],\n",
       "          [0, 0, 0, ..., 0, 0, 0],\n",
       "          [0, 0, 0, ..., 0, 0, 0],\n",
       "          ...,\n",
       "          [0, 0, 0, ..., 0, 0, 0],\n",
       "          [0, 0, 0, ..., 0, 0, 0],\n",
       "          [0, 0, 0, ..., 0, 0, 0]],\n",
       "  \n",
       "         ...,\n",
       "  \n",
       "         [[0, 0, 0, ..., 0, 0, 0],\n",
       "          [0, 0, 0, ..., 0, 0, 0],\n",
       "          [0, 0, 0, ..., 0, 0, 0],\n",
       "          ...,\n",
       "          [0, 0, 0, ..., 0, 0, 0],\n",
       "          [0, 0, 0, ..., 0, 0, 0],\n",
       "          [0, 0, 0, ..., 0, 0, 0]],\n",
       "  \n",
       "         [[0, 0, 0, ..., 0, 0, 0],\n",
       "          [0, 0, 0, ..., 0, 0, 0],\n",
       "          [0, 0, 0, ..., 0, 0, 0],\n",
       "          ...,\n",
       "          [0, 0, 0, ..., 0, 0, 0],\n",
       "          [0, 0, 0, ..., 0, 0, 0],\n",
       "          [0, 0, 0, ..., 0, 0, 0]],\n",
       "  \n",
       "         [[0, 0, 0, ..., 0, 0, 0],\n",
       "          [0, 0, 0, ..., 0, 0, 0],\n",
       "          [0, 0, 0, ..., 0, 0, 0],\n",
       "          ...,\n",
       "          [0, 0, 0, ..., 0, 0, 0],\n",
       "          [0, 0, 0, ..., 0, 0, 0],\n",
       "          [0, 0, 0, ..., 0, 0, 0]]], dtype=uint8),\n",
       "  array([7, 2, 1, ..., 4, 5, 6], dtype=uint8)))"
      ]
     },
     "execution_count": 2,
     "metadata": {},
     "output_type": "execute_result"
    }
   ],
   "source": [
    "data = tf.keras.datasets.mnist.load_data(path='mnist.npz')\n",
    "data"
   ]
  },
  {
   "cell_type": "code",
   "execution_count": 3,
   "id": "26d58f88",
   "metadata": {},
   "outputs": [],
   "source": [
    "data_train = data[0]\n",
    "data_test = data[1]"
   ]
  },
  {
   "cell_type": "code",
   "execution_count": 27,
   "id": "9605ae26",
   "metadata": {},
   "outputs": [],
   "source": [
    "X_train = data_train[0] / 255\n",
    "y_train = data_train[1]\n",
    "\n",
    "X_test = data_test[0] / 255\n",
    "y_test = data_test[1]"
   ]
  },
  {
   "cell_type": "code",
   "execution_count": 28,
   "id": "70e9422c",
   "metadata": {},
   "outputs": [
    {
     "data": {
      "text/plain": [
       "(60000, 28, 28)"
      ]
     },
     "execution_count": 28,
     "metadata": {},
     "output_type": "execute_result"
    }
   ],
   "source": [
    "X_train.shape"
   ]
  },
  {
   "cell_type": "code",
   "execution_count": 29,
   "id": "65090d06",
   "metadata": {},
   "outputs": [],
   "source": [
    "model = tf.keras.Sequential([\n",
    "    tf.keras.layers.Conv2D(32, (3, 3), padding='same', activation=tf.nn.relu, input_shape=(28, 28, 1)),\n",
    "    tf.keras.layers.MaxPool2D((2, 2), strides=2),\n",
    "    tf.keras.layers.Conv2D(64, (3, 3), padding='same', activation=tf.nn.relu),\n",
    "    tf.keras.layers.Flatten(),\n",
    "    tf.keras.layers.Dense(128, activation=tf.nn.relu),\n",
    "    tf.keras.layers.Dense(10, activation=tf.nn.softmax),\n",
    "])\n",
    "\n",
    "# Exercise:\n",
    "# Try to understand how these layers are connected. like..what is 32? \n",
    "# or, how does MaxPool affect the shape of data...? etc.\n",
    "# what are the parameters? ALl will be revealed in \"math\" parts...\n",
    "# (feel free to search online. But, if you are serious, \n",
    "# go and checkout and math notebook)"
   ]
  },
  {
   "cell_type": "code",
   "execution_count": 30,
   "id": "e36b7faa",
   "metadata": {},
   "outputs": [],
   "source": [
    "model.compile(\n",
    "    optimizer='adam', \n",
    "    loss=tf.keras.losses.SparseCategoricalCrossentropy(),\n",
    "    metrics='accuracy',\n",
    ")"
   ]
  },
  {
   "cell_type": "code",
   "execution_count": 31,
   "id": "5368e8f2",
   "metadata": {},
   "outputs": [
    {
     "name": "stdout",
     "output_type": "stream",
     "text": [
      "Model: \"sequential_3\"\n",
      "_________________________________________________________________\n",
      " Layer (type)                Output Shape              Param #   \n",
      "=================================================================\n",
      " conv2d_6 (Conv2D)           (None, 28, 28, 32)        320       \n",
      "                                                                 \n",
      " max_pooling2d_3 (MaxPooling  (None, 14, 14, 32)       0         \n",
      " 2D)                                                             \n",
      "                                                                 \n",
      " conv2d_7 (Conv2D)           (None, 14, 14, 64)        18496     \n",
      "                                                                 \n",
      " flatten_3 (Flatten)         (None, 12544)             0         \n",
      "                                                                 \n",
      " dense_6 (Dense)             (None, 128)               1605760   \n",
      "                                                                 \n",
      " dense_7 (Dense)             (None, 10)                1290      \n",
      "                                                                 \n",
      "=================================================================\n",
      "Total params: 1,625,866\n",
      "Trainable params: 1,625,866\n",
      "Non-trainable params: 0\n",
      "_________________________________________________________________\n"
     ]
    }
   ],
   "source": [
    "model.summary()"
   ]
  },
  {
   "cell_type": "code",
   "execution_count": 32,
   "id": "ce76ef63",
   "metadata": {},
   "outputs": [
    {
     "name": "stdout",
     "output_type": "stream",
     "text": [
      "1875/1875 [==============================] - 50s 27ms/step - loss: 0.1114 - accuracy: 0.9652\n"
     ]
    },
    {
     "data": {
      "text/plain": [
       "<keras.callbacks.History at 0x1e1e77a2fd0>"
      ]
     },
     "execution_count": 32,
     "metadata": {},
     "output_type": "execute_result"
    }
   ],
   "source": [
    "model.fit(X_train, y_train)"
   ]
  },
  {
   "cell_type": "code",
   "execution_count": 33,
   "id": "80e70b63",
   "metadata": {},
   "outputs": [],
   "source": [
    "y_test_proba = model.predict(X_test)\n",
    "y_test_pred = np.argmax(y_test_proba, axis=1)"
   ]
  },
  {
   "cell_type": "code",
   "execution_count": 34,
   "id": "209b410b",
   "metadata": {},
   "outputs": [
    {
     "data": {
      "text/plain": [
       "0.9777"
      ]
     },
     "execution_count": 34,
     "metadata": {},
     "output_type": "execute_result"
    }
   ],
   "source": [
    "accuracy_score(y_test, y_test_pred)"
   ]
  },
  {
   "cell_type": "code",
   "execution_count": 35,
   "id": "68ac2ac0",
   "metadata": {},
   "outputs": [],
   "source": [
    "# 90% plus of your work is just about cleaning data! \n",
    "# So, it is very important, particularly in real world problems!"
   ]
  },
  {
   "cell_type": "markdown",
   "id": "88a419d0",
   "metadata": {},
   "source": [
    "Let us plot mislabeled images"
   ]
  },
  {
   "cell_type": "code",
   "execution_count": 36,
   "id": "cfb6a1f2",
   "metadata": {},
   "outputs": [
    {
     "data": {
      "text/plain": [
       "array([  63,   78,  115,  211,  259,  266,  340,  445,  448,  495,  543,\n",
       "        582,  591,  659,  674,  691,  717,  740,  813,  829,  839,  844,\n",
       "        882,  924,  965, 1014, 1039, 1178, 1182, 1202, 1226, 1232, 1234,\n",
       "       1242, 1247, 1260, 1289, 1299, 1319, 1326, 1364, 1393, 1502, 1530,\n",
       "       1549, 1553, 1562, 1621, 1686, 1709, 1717, 1737, 1754, 1774, 1790,\n",
       "       1828, 1856, 1878, 1901, 1955, 2009, 2035, 2043, 2053, 2093, 2107,\n",
       "       2109, 2118, 2129, 2130, 2135, 2182, 2266, 2272, 2369, 2382, 2387,\n",
       "       2395, 2414, 2447, 2526, 2654, 2742, 2758, 2810, 2896, 2921, 2939,\n",
       "       2953, 2995, 3023, 3030, 3073, 3130, 3206, 3422, 3503, 3520, 3534,\n",
       "       3558, 3559, 3662, 3751, 3757, 3767, 3780, 3808, 3853, 3902, 3941,\n",
       "       3968, 3976, 4063, 4075, 4078, 4140, 4163, 4176, 4207, 4224, 4256,\n",
       "       4294, 4350, 4360, 4380, 4443, 4497, 4507, 4536, 4571, 4575, 4601,\n",
       "       4639, 4679, 4731, 4761, 4783, 4807, 4860, 4890, 4956, 4978, 5068,\n",
       "       5246, 5547, 5676, 5749, 5752, 5888, 5937, 5955, 5982, 5997, 6028,\n",
       "       6071, 6081, 6091, 6166, 6168, 6505, 6555, 6560, 6571, 6578, 6597,\n",
       "       6625, 6641, 6651, 6755, 6783, 7220, 7259, 7265, 7432, 7434, 7524,\n",
       "       7545, 7603, 7735, 7800, 7813, 7821, 7853, 7856, 7862, 7899, 7921,\n",
       "       7923, 7928, 7991, 8059, 8065, 8095, 8105, 8183, 8316, 8332, 8408,\n",
       "       8519, 8522, 9009, 9015, 9019, 9024, 9028, 9051, 9057, 9280, 9540,\n",
       "       9587, 9612, 9634, 9638, 9642, 9664, 9679, 9692, 9729, 9770, 9782,\n",
       "       9792, 9888, 9892], dtype=int64)"
      ]
     },
     "execution_count": 36,
     "metadata": {},
     "output_type": "execute_result"
    }
   ],
   "source": [
    "mask = y_test != y_test_pred\n",
    "misclassified_idx = np.flatnonzero(mask)\n",
    "misclassified_idx"
   ]
  },
  {
   "cell_type": "code",
   "execution_count": 37,
   "id": "54b15178",
   "metadata": {},
   "outputs": [
    {
     "data": {
      "image/png": "[encoded data removed]",
      "text/plain": [
       "<Figure size 432x288 with 1 Axes>"
      ]
     },
     "metadata": {
      "needs_background": "light"
     },
     "output_type": "display_data"
    }
   ],
   "source": [
    "# example\n",
    "idx = 78\n",
    "plt.imshow(X_test[idx])\n",
    "plt.title(f\"pred: {y_test_pred[idx]} (true label: {y_test[idx]})\")\n",
    "plt.show()"
   ]
  },
  {
   "cell_type": "markdown",
   "id": "8c4cb998",
   "metadata": {},
   "source": [
    "**What if** the images have different sizes? How should we deal with that?\n",
    "<br>\n",
    "**Solution:** Resize all images into the same size :)"
   ]
  },
  {
   "cell_type": "markdown",
   "id": "0c7267ae",
   "metadata": {},
   "source": [
    "So, we can do: <br>\n",
    "\n",
    "`tf.keras.layers.Conv2D(32, (3, 3), padding='same', activation=tf.nn.relu, input_shape=(150, 150, 3))`\n",
    "\n",
    "<br>\n",
    "\n",
    "Then, we can see that we are resizing all images to (150, 150). But, what is that `3` in (150, 150, 3)? That means we are using 3 channels (for RGB). So, the image is not gray scale. Note that in image with 3 channels RGB, our kernel (filter) will be 3D, and the filter in each channel can be different that filter of another channel. However, we can then add the impact of 3 filters (of 3D kernel) on 3 channel and return a single value. So, the result can be 2D image. Now, if I have `n` 3D-kernels...I will get `n` 2D images, and thus my new object has L\\*W\\*D where L*W is the same as size of 2D image, and D is `n`."
   ]
  },
  {
   "cell_type": "markdown",
   "id": "3268ba50",
   "metadata": {},
   "source": [
    "**Let us take a look again at the code:** <br>\n",
    "\n",
    "`tf.keras.layers.Conv2D(32, (3, 3), padding='same', activation=tf.nn.relu, input_shape=(28, 28, 1))`\n",
    "\n",
    "This line shows that we have 32 filters and our kernel is 3-by-3. We then use input image of 28\\*28\\*1, which means our image is 2D (with one channel). Note that the stride, by default (see doc), is (1,1). And `padding` is set `same`. Therefore, according to doc, the output will have the same image size, so 28\\*28. However, have 32 filters. So, it would be (28, 28, 32). How about number of neurons? How does NN look like? It will be taken care of shortly in upcoming notebooks.\n",
    "\n"
   ]
  },
  {
   "cell_type": "markdown",
   "id": "832d5738",
   "metadata": {},
   "source": [
    "`tf.keras.layers.MaxPool2D((2, 2), strides=2)` <br>\n",
    "Note that here we do not have number of filters. Because, in maxpooling, we are change number of channels (depth), but we just sliding window and change the size of each 2D image."
   ]
  },
  {
   "cell_type": "markdown",
   "id": "8fb58eea",
   "metadata": {},
   "source": [
    "Perform TFDL on Cat-Dog image classification later:\n",
    "[link](https://learn.udacity.com/courses/ud187/lessons/4a041ac9-3bb9-43d6-8a02-4fa912626028/concepts/610653f2-f9a7-43fa-a8c8-d166eea9c4ce)"
   ]
  },
  {
   "cell_type": "markdown",
   "id": "d85a8693",
   "metadata": {},
   "source": [
    "**Note:** For binary classification, our last layer can be:\n",
    "* 2 nodes, with `softmax` as activation function\n",
    "* 1 node, with `sigmoid` as activation function, loss='binary_crossentropy'"
   ]
  },
  {
   "cell_type": "markdown",
   "id": "35ab1a66",
   "metadata": {},
   "source": [
    "**Overfitting:**\n",
    "In overfitting, the model is not fitted too well (too much) on a train data as if it memorizes them rather than learning the general behavior. Therefore, we need a way to resolve this overfitting challenge. One way is to apply it on validation set and then choose the model that results in low error in validation test. We may perform cross-validation. \n",
    "\n",
    "Note that, even in this case, we may end up being biased towards our validation test. So, we need a test set that we do not touch, and then finally just evaluate the performance of chosen model on new, completely unseen data.\n",
    "\n",
    "Two important approaches for dealing with overfitting challenge are:\n",
    "* Data Augmentation -> creating differenet versions of image (like flipping, rotation, etc) to help model genralize better\n",
    "* Drop out -> randomly remove some of neurons to help others get chance to train better and get generalized better."
   ]
  },
  {
   "cell_type": "markdown",
   "id": "ff8ace21",
   "metadata": {},
   "source": [
    "**Exercise:** <br>\n",
    "After performing simple TFDL on  cat-dog data, you can try to consider `Data Augmentation` (in preprocessing) and/or `Drop out`(throughout learning process) to see the result!"
   ]
  },
  {
   "cell_type": "markdown",
   "id": "7ccf8476",
   "metadata": {},
   "source": [
    "Another way to avoid overfitting is early stopping... It means we stop the learning process at early stages to let model not be overfitted to the data."
   ]
  },
  {
   "cell_type": "markdown",
   "id": "c6eecc75",
   "metadata": {},
   "source": [
    "**Exercise:** <br>\n",
    "Use CNN to classify any other dataset of images."
   ]
  },
  {
   "cell_type": "markdown",
   "id": "2b5db6ad",
   "metadata": {},
   "source": [
    "**Suggestion:** Before the exercises, you may want to take a look at the next few notebooks where I talk about details of NN, and explain more about the model and the tf inputs. We can then come back here to do exercises and move forward."
   ]
  },
  {
   "cell_type": "code",
   "execution_count": null,
   "id": "fd72bcc7",
   "metadata": {},
   "outputs": [],
   "source": []
  }
 ],
 "metadata": {
  "kernelspec": {
   "display_name": "Python 3 (ipykernel)",
   "language": "python",
   "name": "python3"
  },
  "language_info": {
   "codemirror_mode": {
    "name": "ipython",
    "version": 3
   },
   "file_extension": ".py",
   "mimetype": "text/x-python",
   "name": "python",
   "nbconvert_exporter": "python",
   "pygments_lexer": "ipython3",
   "version": "3.8.5"
  }
 },
 "nbformat": 4,
 "nbformat_minor": 5
}
